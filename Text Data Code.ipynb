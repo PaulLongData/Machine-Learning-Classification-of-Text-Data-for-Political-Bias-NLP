{
 "cells": [
  {
   "cell_type": "code",
   "execution_count": 1,
   "id": "669319da",
   "metadata": {},
   "outputs": [],
   "source": [
    "#This notebook took 11 minutes and 30 seconds to run from fresh. \n",
    "\n",
    "import pandas as pd\n",
    "import numpy as np\n",
    "import seaborn as sns\n",
    "import matplotlib.pyplot as plt\n",
    "import nltk\n",
    "\n",
    "from nltk import pos_tag\n",
    "from nltk.corpus import wordnet as wn\n",
    "from nltk.corpus import stopwords\n",
    "from nltk.tokenize import word_tokenize\n",
    "from nltk.tokenize import RegexpTokenizer\n",
    "from nltk.stem.wordnet import WordNetLemmatizer\n",
    "from sklearn import metrics\n",
    "from sklearn import model_selection, naive_bayes, svm\n",
    "from sklearn.cluster import KMeans\n",
    "from sklearn.ensemble import RandomForestClassifier\n",
    "from sklearn.linear_model import LogisticRegression\n",
    "from sklearn.metrics import accuracy_score\n",
    "from sklearn.metrics import classification_report\n",
    "from sklearn.neighbors import KNeighborsClassifier\n",
    "from sklearn.preprocessing import LabelEncoder\n",
    "from sklearn.feature_extraction.text import CountVectorizer\n",
    "from sklearn.feature_extraction.text import TfidfVectorizer\n",
    "from collections import defaultdict\n",
    "\n",
    "#nltk.download('all')"
   ]
  },
  {
   "cell_type": "code",
   "execution_count": 4,
   "id": "f0f0c6ef",
   "metadata": {
    "scrolled": true
   },
   "outputs": [
    {
     "data": {
      "text/html": [
       "<div>\n",
       "<style scoped>\n",
       "    .dataframe tbody tr th:only-of-type {\n",
       "        vertical-align: middle;\n",
       "    }\n",
       "\n",
       "    .dataframe tbody tr th {\n",
       "        vertical-align: top;\n",
       "    }\n",
       "\n",
       "    .dataframe thead th {\n",
       "        text-align: right;\n",
       "    }\n",
       "</style>\n",
       "<table border=\"1\" class=\"dataframe\">\n",
       "  <thead>\n",
       "    <tr style=\"text-align: right;\">\n",
       "      <th></th>\n",
       "      <th>id</th>\n",
       "      <th>website</th>\n",
       "      <th>headline</th>\n",
       "      <th>political bias</th>\n",
       "    </tr>\n",
       "  </thead>\n",
       "  <tbody>\n",
       "    <tr>\n",
       "      <th>0</th>\n",
       "      <td>1</td>\n",
       "      <td>BBC</td>\n",
       "      <td>Mystery surrounds objects shot down by US mili...</td>\n",
       "      <td>left-center</td>\n",
       "    </tr>\n",
       "    <tr>\n",
       "      <th>1</th>\n",
       "      <td>2</td>\n",
       "      <td>BBC</td>\n",
       "      <td>China says US balloons breached airspace at le...</td>\n",
       "      <td>left-center</td>\n",
       "    </tr>\n",
       "    <tr>\n",
       "      <th>2</th>\n",
       "      <td>3</td>\n",
       "      <td>BBC</td>\n",
       "      <td>Brianna's death has left massive hole, says fa...</td>\n",
       "      <td>left-center</td>\n",
       "    </tr>\n",
       "    <tr>\n",
       "      <th>3</th>\n",
       "      <td>4</td>\n",
       "      <td>BBC</td>\n",
       "      <td>Wegovy weight loss jab to be sold by UK chemis...</td>\n",
       "      <td>left-center</td>\n",
       "    </tr>\n",
       "    <tr>\n",
       "      <th>4</th>\n",
       "      <td>5</td>\n",
       "      <td>BBC</td>\n",
       "      <td>Meteoroid lights up sky above English Channel</td>\n",
       "      <td>left-center</td>\n",
       "    </tr>\n",
       "  </tbody>\n",
       "</table>\n",
       "</div>"
      ],
      "text/plain": [
       "   id website                                           headline  \\\n",
       "0   1     BBC  Mystery surrounds objects shot down by US mili...   \n",
       "1   2     BBC  China says US balloons breached airspace at le...   \n",
       "2   3     BBC  Brianna's death has left massive hole, says fa...   \n",
       "3   4     BBC  Wegovy weight loss jab to be sold by UK chemis...   \n",
       "4   5     BBC      Meteoroid lights up sky above English Channel   \n",
       "\n",
       "  political bias  \n",
       "0    left-center  \n",
       "1    left-center  \n",
       "2    left-center  \n",
       "3    left-center  \n",
       "4    left-center  "
      ]
     },
     "execution_count": 4,
     "metadata": {},
     "output_type": "execute_result"
    }
   ],
   "source": [
    "NewsHeadlines1 = pd.read_csv(\"C:/Users/Pauly/Downloads/22166475_Paul_Long_Final_Project_ML/Text_Data.csv\")\n",
    "NewsHeadlines2 = pd.read_excel(\"C:/Users/Pauly/Downloads/22166475_Paul_Long_Final_Project_ML/Text_Data_Aux.xlsx\")\n",
    "\n",
    "NewsHeadlinesFull = pd.merge(NewsHeadlines1,NewsHeadlines2,on='website')\n",
    "NewsHeadlinesFull = NewsHeadlinesFull.sort_values(\"id\")\n",
    "\n",
    "NewsHeadlinesFull = NewsHeadlinesFull[['id', 'website', 'headline', 'political bias']]\n",
    "NewsHeadlinesFull.head()"
   ]
  },
  {
   "cell_type": "code",
   "execution_count": 5,
   "id": "f4fb2dc8",
   "metadata": {},
   "outputs": [],
   "source": [
    "#Remove center papers as not enough papers & only one paper\n",
    "NewsHeadlines = NewsHeadlinesFull.loc[NewsHeadlinesFull['political bias'] != 'center']\n",
    "\n",
    "#NewsHeadlines = NewsHeadlinesFull.sample(n=10000) \n",
    "NewsHeadlines = NewsHeadlines.sort_values(by=['id'])\n",
    "NewsHeadlines = NewsHeadlines.reset_index()\n",
    "NewsHeadlines = NewsHeadlines.drop('index', axis=1)\n",
    "\n",
    "NewsHeadlines['headline'].dropna(inplace=True)\n",
    "NewsHeadlines['headline'] = [entry.lower() for entry in NewsHeadlines['headline']]"
   ]
  },
  {
   "cell_type": "code",
   "execution_count": null,
   "id": "cce74c79",
   "metadata": {},
   "outputs": [],
   "source": []
  },
  {
   "cell_type": "code",
   "execution_count": null,
   "id": "e33efdfd",
   "metadata": {},
   "outputs": [],
   "source": [
    "#Exploratory Data Analysis"
   ]
  },
  {
   "cell_type": "code",
   "execution_count": 6,
   "id": "c4591a48",
   "metadata": {},
   "outputs": [
    {
     "data": {
      "text/plain": [
       "<AxesSubplot:>"
      ]
     },
     "execution_count": 6,
     "metadata": {},
     "output_type": "execute_result"
    },
    {
     "data": {
      "image/png": "[encoded data removed]",
      "text/plain": [
       "<Figure size 640x480 with 1 Axes>"
      ]
     },
     "metadata": {},
     "output_type": "display_data"
    }
   ],
   "source": [
    "sns.heatmap(NewsHeadlines.isnull(),yticklabels=False,cbar=False,cmap='viridis')"
   ]
  },
  {
   "cell_type": "code",
   "execution_count": 7,
   "id": "d3f7acc7",
   "metadata": {},
   "outputs": [
    {
     "name": "stdout",
     "output_type": "stream",
     "text": [
      "['left-center' 'right' 'right-center'] ['BBC' 'Sun' 'Mirror' 'Daily Mail' 'Independent' 'Guardian'\n",
      " 'Manchester Evening News' 'Metro' 'Telegraph' 'Daily Express' 'Times'\n",
      " 'Liverpool Echo' 'Birmingham Live' 'Evening Standard']\n"
     ]
    }
   ],
   "source": [
    "print(NewsHeadlines['political bias'].unique(),\n",
    "      NewsHeadlines['website'].unique())"
   ]
  },
  {
   "cell_type": "code",
   "execution_count": 8,
   "id": "926bd10a",
   "metadata": {},
   "outputs": [
    {
     "name": "stdout",
     "output_type": "stream",
     "text": [
      "<class 'pandas.core.frame.DataFrame'>\n",
      "RangeIndex: 32796 entries, 0 to 32795\n",
      "Data columns (total 4 columns):\n",
      " #   Column          Non-Null Count  Dtype \n",
      "---  ------          --------------  ----- \n",
      " 0   id              32796 non-null  int64 \n",
      " 1   website         32796 non-null  object\n",
      " 2   headline        32796 non-null  object\n",
      " 3   political bias  32796 non-null  object\n",
      "dtypes: int64(1), object(3)\n",
      "memory usage: 1.0+ MB\n"
     ]
    }
   ],
   "source": [
    "NewsHeadlines.info()"
   ]
  },
  {
   "cell_type": "code",
   "execution_count": 9,
   "id": "689e8f8d",
   "metadata": {},
   "outputs": [
    {
     "data": {
      "text/plain": [
       "<AxesSubplot:xlabel='political bias', ylabel='count'>"
      ]
     },
     "execution_count": 9,
     "metadata": {},
     "output_type": "execute_result"
    },
    {
     "data": {
      "image/png": "[encoded data removed]",
      "text/plain": [
       "<Figure size 640x480 with 2 Axes>"
      ]
     },
     "metadata": {},
     "output_type": "display_data"
    }
   ],
   "source": [
    "NewsHeadlinesDouble = NewsHeadlines.copy()\n",
    "NewsHeadlinesDouble = NewsHeadlinesDouble.replace('right-center', 'right')\n",
    "NewsHeadlinesDouble = NewsHeadlinesDouble.replace('left-center', 'left')\n",
    "\n",
    "fig, axis = plt.subplots(ncols=2)\n",
    "sns.set_style('whitegrid')\n",
    "sns.countplot(x='political bias', data=NewsHeadlines, palette='RdBu_r', ax=axis[0])\n",
    "sns.countplot(x='political bias', data=NewsHeadlinesDouble, palette='RdBu_r', ax=axis[1])"
   ]
  },
  {
   "cell_type": "code",
   "execution_count": 10,
   "id": "9c542d53",
   "metadata": {},
   "outputs": [
    {
     "data": {
      "text/plain": [
       "(array([ 0,  1,  2,  3,  4,  5,  6,  7,  8,  9, 10, 11, 12, 13]),\n",
       " [Text(0, 0, 'BBC'),\n",
       "  Text(1, 0, 'Sun'),\n",
       "  Text(2, 0, 'Mirror'),\n",
       "  Text(3, 0, 'Daily Mail'),\n",
       "  Text(4, 0, 'Independent'),\n",
       "  Text(5, 0, 'Guardian'),\n",
       "  Text(6, 0, 'Manchester Evening News'),\n",
       "  Text(7, 0, 'Metro'),\n",
       "  Text(8, 0, 'Telegraph'),\n",
       "  Text(9, 0, 'Daily Express'),\n",
       "  Text(10, 0, 'Times'),\n",
       "  Text(11, 0, 'Liverpool Echo'),\n",
       "  Text(12, 0, 'Birmingham Live'),\n",
       "  Text(13, 0, 'Evening Standard')])"
      ]
     },
     "execution_count": 10,
     "metadata": {},
     "output_type": "execute_result"
    },
    {
     "data": {
      "image/png": "[encoded data removed]",
      "text/plain": [
       "<Figure size 640x480 with 1 Axes>"
      ]
     },
     "metadata": {},
     "output_type": "display_data"
    }
   ],
   "source": [
    "sns.set_style('whitegrid')\n",
    "sns.countplot(x='website',hue='political bias',data=NewsHeadlines,palette='RdBu_r')\n",
    "plt.xticks(rotation=35)"
   ]
  },
  {
   "cell_type": "code",
   "execution_count": 11,
   "id": "2476e66c",
   "metadata": {},
   "outputs": [
    {
     "name": "stdout",
     "output_type": "stream",
     "text": [
      "36173\n"
     ]
    }
   ],
   "source": [
    "totalwords = []\n",
    "NewsHeadlinessplit = []\n",
    "\n",
    "for i in range(0, len(NewsHeadlines['headline'])):\n",
    "    NewsHeadlinessplit.append(NewsHeadlines['headline'][i].split())\n",
    "\n",
    "NewsHeadlinessplit = pd.DataFrame(NewsHeadlinessplit)\n",
    "\n",
    "for i in range(0, len(NewsHeadlinessplit[0])):\n",
    "    for w in range(0, 28):\n",
    "        totalwords.append(NewsHeadlinessplit[w][i])\n",
    "\n",
    "totalwords = pd.DataFrame(totalwords)\n",
    "print(len(totalwords[0].unique()))"
   ]
  },
  {
   "cell_type": "code",
   "execution_count": null,
   "id": "4476caa8",
   "metadata": {},
   "outputs": [],
   "source": []
  },
  {
   "cell_type": "code",
   "execution_count": 12,
   "id": "e3aef6f2",
   "metadata": {
    "scrolled": true
   },
   "outputs": [],
   "source": [
    "#Tokenize\n",
    "NewsHeadlines['Tokenized Headline'] = [word_tokenize(entry) for entry in NewsHeadlines['headline']]"
   ]
  },
  {
   "cell_type": "code",
   "execution_count": 13,
   "id": "1ea517f5",
   "metadata": {},
   "outputs": [],
   "source": [
    "tag_map = defaultdict(lambda : wn.NOUN)\n",
    "tag_map['J'] = wn.ADJ\n",
    "tag_map['V'] = wn.VERB\n",
    "tag_map['R'] = wn.ADV"
   ]
  },
  {
   "cell_type": "code",
   "execution_count": 14,
   "id": "b2227049",
   "metadata": {},
   "outputs": [],
   "source": [
    "for index,entry in enumerate(NewsHeadlines['Tokenized Headline']):\n",
    "    Final_words = []\n",
    "    word_Lemmatized = WordNetLemmatizer()\n",
    "    for word, tag in pos_tag(entry):\n",
    "        if word not in stopwords.words('english') and word.isalpha():\n",
    "            word_Final = word_Lemmatized.lemmatize(word,tag_map[tag[0]])\n",
    "            Final_words.append(word_Final)\n",
    "    NewsHeadlines.loc[index,'Finalised Headline'] = str(Final_words)"
   ]
  },
  {
   "cell_type": "code",
   "execution_count": null,
   "id": "8e0c9da7",
   "metadata": {},
   "outputs": [],
   "source": []
  },
  {
   "cell_type": "code",
   "execution_count": 15,
   "id": "3f71bb7c",
   "metadata": {},
   "outputs": [],
   "source": [
    "#Train Test Split\n",
    "Train_X, Test_X, Train_Y, Test_Y = model_selection.train_test_split(\n",
    "    NewsHeadlines['Finalised Headline'],NewsHeadlines['political bias'],test_size=0.3)"
   ]
  },
  {
   "cell_type": "code",
   "execution_count": null,
   "id": "ec319ede",
   "metadata": {},
   "outputs": [],
   "source": []
  },
  {
   "cell_type": "code",
   "execution_count": 16,
   "id": "e4245da0",
   "metadata": {},
   "outputs": [],
   "source": [
    "#Count Vectoriser (Bag of Words)\n",
    "Train_Y_CV = Train_Y\n",
    "Test_Y_CV = Test_Y\n",
    "\n",
    "token = RegexpTokenizer(r'[a-zA-Z0-9]+')\n",
    "cv = CountVectorizer(lowercase = True, stop_words= 'english', \n",
    "                     ngram_range = (1,2), tokenizer = token.tokenize) #Use 1 and 2 word features\n",
    "Train_X_CV = cv.fit_transform(Train_X)\n",
    "Test_X_CV = cv.transform(Test_X)"
   ]
  },
  {
   "cell_type": "code",
   "execution_count": 17,
   "id": "96165885",
   "metadata": {},
   "outputs": [],
   "source": [
    "#Term Frequency - Inverse Document Frequency\n",
    "\n",
    "#https://melaniewalsh.github.io/Intro-Cultural-Analytics/05-Text-Analysis/03-TF-IDF-Scikit-Learn.html\n",
    "Encoder = LabelEncoder()\n",
    "Train_Y_TF = Encoder.fit_transform(Train_Y)\n",
    "Test_Y_TF = Encoder.fit_transform(Test_Y)\n",
    "\n",
    "TF_vect = TfidfVectorizer(max_features = 15000)\n",
    "TF_vect.fit(NewsHeadlines['Finalised Headline'])\n",
    "Train_X_TF = TF_vect.transform(Train_X)\n",
    "Test_X_TF = TF_vect.transform(Test_X)\n"
   ]
  },
  {
   "cell_type": "code",
   "execution_count": null,
   "id": "b4973ac4",
   "metadata": {},
   "outputs": [],
   "source": []
  },
  {
   "cell_type": "code",
   "execution_count": 18,
   "id": "6455b6e6",
   "metadata": {},
   "outputs": [],
   "source": [
    "# Logistic Regression\n",
    "classifier = LogisticRegression()"
   ]
  },
  {
   "cell_type": "code",
   "execution_count": 19,
   "id": "f3bdedd5",
   "metadata": {},
   "outputs": [
    {
     "name": "stderr",
     "output_type": "stream",
     "text": [
      "C:\\Users\\pauly\\anaconda3\\lib\\site-packages\\sklearn\\linear_model\\_logistic.py:814: ConvergenceWarning: lbfgs failed to converge (status=1):\n",
      "STOP: TOTAL NO. of ITERATIONS REACHED LIMIT.\n",
      "\n",
      "Increase the number of iterations (max_iter) or scale the data as shown in:\n",
      "    https://scikit-learn.org/stable/modules/preprocessing.html\n",
      "Please also refer to the documentation for alternative solver options:\n",
      "    https://scikit-learn.org/stable/modules/linear_model.html#logistic-regression\n",
      "  n_iter_i = _check_optimize_result(\n"
     ]
    },
    {
     "name": "stdout",
     "output_type": "stream",
     "text": [
      "LR CV Accuracy: 0.739810956398008\n",
      "LR CV Accuracy:\n",
      "               precision    recall  f1-score   support\n",
      "\n",
      " left-center       0.80      0.73      0.76      5041\n",
      "       right       0.76      0.77      0.77      3420\n",
      "right-center       0.55      0.71      0.62      1378\n",
      "\n",
      "    accuracy                           0.74      9839\n",
      "   macro avg       0.70      0.74      0.72      9839\n",
      "weighted avg       0.75      0.74      0.74      9839\n",
      "\n"
     ]
    }
   ],
   "source": [
    "LR_CV = classifier.fit(Train_X_CV,Train_Y_CV)\n",
    "predictions_LR_CV = LR_CV.predict(Test_X_CV)\n",
    "print(\"LR CV Accuracy:\",accuracy_score(predictions_LR_CV, Test_Y_CV))\n",
    "print(\"LR CV Accuracy:\\n\",classification_report(predictions_LR_CV, Test_Y_CV))\n"
   ]
  },
  {
   "cell_type": "code",
   "execution_count": 21,
   "id": "df73caf7",
   "metadata": {},
   "outputs": [
    {
     "name": "stdout",
     "output_type": "stream",
     "text": [
      "LR TF Accuracy: 0.6880780567130806\n"
     ]
    },
    {
     "name": "stderr",
     "output_type": "stream",
     "text": [
      "C:\\Users\\pauly\\anaconda3\\lib\\site-packages\\sklearn\\linear_model\\_logistic.py:814: ConvergenceWarning: lbfgs failed to converge (status=1):\n",
      "STOP: TOTAL NO. of ITERATIONS REACHED LIMIT.\n",
      "\n",
      "Increase the number of iterations (max_iter) or scale the data as shown in:\n",
      "    https://scikit-learn.org/stable/modules/preprocessing.html\n",
      "Please also refer to the documentation for alternative solver options:\n",
      "    https://scikit-learn.org/stable/modules/linear_model.html#logistic-regression\n",
      "  n_iter_i = _check_optimize_result(\n"
     ]
    }
   ],
   "source": [
    "LR_TF = classifier.fit(Train_X_TF,Train_Y_TF)\n",
    "predictions_LR_TF = LR_TF.predict(Test_X_TF)\n",
    "print(\"LR TF Accuracy:\",metrics.accuracy_score(predictions_LR_TF, Test_Y_TF))"
   ]
  },
  {
   "cell_type": "code",
   "execution_count": null,
   "id": "09b70dd5",
   "metadata": {},
   "outputs": [],
   "source": []
  },
  {
   "cell_type": "code",
   "execution_count": 22,
   "id": "6ef161c3",
   "metadata": {},
   "outputs": [],
   "source": [
    "#K Nearest Neighbours\n",
    "KNN = KNeighborsClassifier(n_neighbors=5) #5 neighbours were used. "
   ]
  },
  {
   "cell_type": "code",
   "execution_count": 23,
   "id": "16607055",
   "metadata": {},
   "outputs": [
    {
     "name": "stderr",
     "output_type": "stream",
     "text": [
      "C:\\Users\\pauly\\anaconda3\\lib\\site-packages\\sklearn\\neighbors\\_classification.py:228: FutureWarning: Unlike other reduction functions (e.g. `skew`, `kurtosis`), the default behavior of `mode` typically preserves the axis it acts along. In SciPy 1.11.0, this behavior will change: the default value of `keepdims` will become False, the `axis` over which the statistic is taken will be eliminated, and the value None will no longer be accepted. Set `keepdims` to True or False to avoid this warning.\n",
      "  mode, _ = stats.mode(_y[neigh_ind, k], axis=1)\n"
     ]
    },
    {
     "name": "stdout",
     "output_type": "stream",
     "text": [
      "K Nearest Neighbours CV Accuracy: 0.5893891655656063\n",
      "K Nearest Neighbours CV Classification Report:\n",
      "               precision    recall  f1-score   support\n",
      "\n",
      " left-center       0.96      0.54      0.69      8182\n",
      "       right       0.20      0.79      0.32       877\n",
      "right-center       0.39      0.88      0.54       780\n",
      "\n",
      "    accuracy                           0.59      9839\n",
      "   macro avg       0.52      0.74      0.52      9839\n",
      "weighted avg       0.85      0.59      0.65      9839\n",
      "\n"
     ]
    }
   ],
   "source": [
    "KNN_CV = KNN.fit(Train_X_CV,Train_Y_CV)\n",
    "predictions_KNN_CV = KNN_CV.predict(Test_X_CV)\n",
    "print(\"K Nearest Neighbours CV Accuracy:\",accuracy_score(predictions_KNN_CV, Test_Y_CV))\n",
    "print(\"K Nearest Neighbours CV Classification Report:\\n\",classification_report(predictions_KNN_CV, Test_Y_CV))"
   ]
  },
  {
   "cell_type": "code",
   "execution_count": 24,
   "id": "0ffa29ee",
   "metadata": {},
   "outputs": [
    {
     "name": "stderr",
     "output_type": "stream",
     "text": [
      "C:\\Users\\pauly\\anaconda3\\lib\\site-packages\\sklearn\\neighbors\\_classification.py:228: FutureWarning: Unlike other reduction functions (e.g. `skew`, `kurtosis`), the default behavior of `mode` typically preserves the axis it acts along. In SciPy 1.11.0, this behavior will change: the default value of `keepdims` will become False, the `axis` over which the statistic is taken will be eliminated, and the value None will no longer be accepted. Set `keepdims` to True or False to avoid this warning.\n",
      "  mode, _ = stats.mode(_y[neigh_ind, k], axis=1)\n"
     ]
    },
    {
     "name": "stdout",
     "output_type": "stream",
     "text": [
      "K Nearest Neighbours TF Accuracy: 0.6545380628112613\n"
     ]
    }
   ],
   "source": [
    "KNN_TF = KNN.fit(Train_X_TF,Train_Y_TF)\n",
    "predictions_KNN_TF = KNN_TF.predict(Test_X_TF)\n",
    "print(\"K Nearest Neighbours TF Accuracy:\",accuracy_score(predictions_KNN_TF, Test_Y_TF))"
   ]
  },
  {
   "cell_type": "code",
   "execution_count": null,
   "id": "b2719c5a",
   "metadata": {},
   "outputs": [],
   "source": []
  },
  {
   "cell_type": "code",
   "execution_count": 25,
   "id": "f7267ee4",
   "metadata": {},
   "outputs": [],
   "source": [
    "# Random Forest\n",
    "RF = RandomForestClassifier(n_estimators = 20)#20 Trees were used as a balance between processing time & accuracy"
   ]
  },
  {
   "cell_type": "code",
   "execution_count": 26,
   "id": "5cd82c41",
   "metadata": {},
   "outputs": [
    {
     "name": "stdout",
     "output_type": "stream",
     "text": [
      "RF CV Accuracy: 0.725581868076024\n"
     ]
    }
   ],
   "source": [
    "RF_CV = RF.fit(Train_X_CV,Train_Y_CV)\n",
    "predictions_RF_CV = RF_CV.predict(Test_X_CV)\n",
    "print(\"RF CV Accuracy:\",metrics.accuracy_score(predictions_RF_CV, Test_Y_CV))"
   ]
  },
  {
   "cell_type": "code",
   "execution_count": 27,
   "id": "23269ed4",
   "metadata": {},
   "outputs": [
    {
     "name": "stdout",
     "output_type": "stream",
     "text": [
      "RF TF Accuracy: 0.725480231730867\n"
     ]
    }
   ],
   "source": [
    "RF_TF = RF.fit(Train_X_TF,Train_Y_TF)\n",
    "predictions_RF_TF = RF_TF.predict(Test_X_TF)\n",
    "print(\"RF TF Accuracy:\",metrics.accuracy_score(predictions_RF_TF, Test_Y_TF))"
   ]
  },
  {
   "cell_type": "code",
   "execution_count": null,
   "id": "fd7c7828",
   "metadata": {},
   "outputs": [],
   "source": []
  },
  {
   "cell_type": "code",
   "execution_count": 28,
   "id": "5e92bb67",
   "metadata": {},
   "outputs": [],
   "source": [
    "#Naive Bayes\n",
    "NaiveBayes = naive_bayes.MultinomialNB()"
   ]
  },
  {
   "cell_type": "code",
   "execution_count": 29,
   "id": "5f0c0054",
   "metadata": {},
   "outputs": [
    {
     "name": "stdout",
     "output_type": "stream",
     "text": [
      "Naive Bayes CV Accuracy : 0.7243622319341396\n"
     ]
    }
   ],
   "source": [
    "NaiveBayes.fit(Train_X_CV,Train_Y_CV)\n",
    "predictions_NB_CV = NaiveBayes.predict(Test_X_CV)\n",
    "print(\"Naive Bayes CV Accuracy :\",accuracy_score(predictions_NB_CV, Test_Y_CV))"
   ]
  },
  {
   "cell_type": "code",
   "execution_count": 30,
   "id": "b62e812b",
   "metadata": {},
   "outputs": [
    {
     "name": "stdout",
     "output_type": "stream",
     "text": [
      "Naive Bayes TF Accuracy : 0.6613476979367822\n",
      "\n",
      "Naive Bayes TF Classification Report :\n",
      "               precision    recall  f1-score   support\n",
      "\n",
      "           0       0.90      0.61      0.73      6778\n",
      "           1       0.51      0.75      0.61      2351\n",
      "           2       0.35      0.87      0.50       710\n",
      "\n",
      "    accuracy                           0.66      9839\n",
      "   macro avg       0.58      0.74      0.61      9839\n",
      "weighted avg       0.76      0.66      0.68      9839\n",
      "\n"
     ]
    }
   ],
   "source": [
    "NB_TF = NaiveBayes.fit(Train_X_TF,Train_Y_TF)\n",
    "predictions_NB_TF = NB_TF.predict(Test_X_TF)\n",
    "print(\"Naive Bayes TF Accuracy :\",accuracy_score(predictions_NB_TF, Test_Y_TF))\n",
    "print(\"\\nNaive Bayes TF Classification Report :\\n\",classification_report(predictions_NB_TF, Test_Y_TF))"
   ]
  },
  {
   "cell_type": "code",
   "execution_count": null,
   "id": "c6359182",
   "metadata": {},
   "outputs": [],
   "source": []
  },
  {
   "cell_type": "code",
   "execution_count": 31,
   "id": "f92977e8",
   "metadata": {},
   "outputs": [],
   "source": [
    "#Support Vector Machine Classifier\n",
    "SVM = svm.SVC(C=1.0, kernel='linear', degree=3, gamma='auto') #parameters given as default"
   ]
  },
  {
   "cell_type": "code",
   "execution_count": 32,
   "id": "22c599e3",
   "metadata": {
    "scrolled": true
   },
   "outputs": [
    {
     "name": "stdout",
     "output_type": "stream",
     "text": [
      "Support Vector Machine CV Accuracy : 0.7358471389368838\n",
      "\n",
      "Support Vector Machine CV Classification Report :\n",
      "               precision    recall  f1-score   support\n",
      "\n",
      " left-center       0.79      0.72      0.76      5059\n",
      "       right       0.75      0.77      0.76      3357\n",
      "right-center       0.55      0.69      0.61      1423\n",
      "\n",
      "    accuracy                           0.74      9839\n",
      "   macro avg       0.70      0.73      0.71      9839\n",
      "weighted avg       0.75      0.74      0.74      9839\n",
      "\n"
     ]
    }
   ],
   "source": [
    "SVM_CV = SVM.fit(Train_X_CV,Train_Y_CV)\n",
    "predictions_SVM_CV = SVM_CV.predict(Test_X_CV)\n",
    "print(\"Support Vector Machine CV Accuracy :\",accuracy_score(predictions_SVM_CV, Test_Y_CV))\n",
    "print(\"\\nSupport Vector Machine CV Classification Report :\\n\",classification_report(predictions_SVM_CV, Test_Y_CV))"
   ]
  },
  {
   "cell_type": "code",
   "execution_count": 33,
   "id": "49212593",
   "metadata": {},
   "outputs": [
    {
     "name": "stdout",
     "output_type": "stream",
     "text": [
      "SVM TF Accuracy : 0.692854964935461\n"
     ]
    }
   ],
   "source": [
    "SVM_TF = SVM.fit(Train_X_TF,Train_Y_TF)\n",
    "predictions_SVM_TF = SVM_TF.predict(Test_X_TF)\n",
    "print(\"SVM TF Accuracy :\",accuracy_score(predictions_SVM_TF, Test_Y_TF))"
   ]
  },
  {
   "cell_type": "code",
   "execution_count": null,
   "id": "66092125",
   "metadata": {},
   "outputs": [],
   "source": []
  }
 ],
 "metadata": {
  "kernelspec": {
   "display_name": "Python 3 (ipykernel)",
   "language": "python",
   "name": "python3"
  },
  "language_info": {
   "codemirror_mode": {
    "name": "ipython",
    "version": 3
   },
   "file_extension": ".py",
   "mimetype": "text/x-python",
   "name": "python",
   "nbconvert_exporter": "python",
   "pygments_lexer": "ipython3",
   "version": "3.9.13"
  }
 },
 "nbformat": 4,
 "nbformat_minor": 5
}
